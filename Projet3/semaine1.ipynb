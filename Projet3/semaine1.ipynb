{
 "cells": [
  {
   "cell_type": "markdown",
   "metadata": {},
   "source": [
    "<div style=\"text-align: right\"><small>pierre-henri.wuillemin@lip6.fr<br/>git clone https://gitlab.lip6.fr/phw/projetMdC2018.git\n",
    "<br/>last version : <b>28/03/2018</b><br/>2018-fev</small></div>\n",
    "# 3i005 -Projet 3 - Chaîne de Markov - semaine 1"
   ]
  },
  {
   "cell_type": "markdown",
   "metadata": {},
   "source": [
    "Le  but de ce projet est de fournir une plateforme d'étude des Chaîne de Markov (CdM) à temps discret, à états discrets."
   ]
  },
  {
   "cell_type": "markdown",
   "metadata": {},
   "source": [
    "Il s'agira donc de réaliser un ensemble de codes qui permettront de facilement modéliser puis analyser une chaîne de Markov. Globalement, le projet aura 3 phases :\n",
    "1. Définir un cadre de modèlisation et de visualisation pour les CdM\n",
    "2. Proposer des algorithmes sur les CdM\n",
    "3. Discussions et analyses des modèles et algorithmes basés sur un chaîne de Markov complexe."
   ]
  },
  {
   "cell_type": "markdown",
   "metadata": {},
   "source": [
    "## Préambule technique\n",
    "Le projet prendra la forme d'un ensemble de fichiers `python` (**python3**) et un rapport. Il utilisera fortement la programmation objet. Même si ce n'est pas forcément très _pythonesque_, on s'attachera à ce sujet à définir une classe dans un fichier de même nom (sauf si spécification contraire). \n",
    "\n",
    "Ce notebook (`semaine1.ipynb`) est normalement directement exécutable néanmoins, si vous le préférez, vous pouvez également recopier vos codes de test dans un fichier python classique `semaine1.py`. Si vous êtes y êtes habitués ou si vous voulez vous y habituer, n'hésitez pas à utiliser des _frameworks_ de test comme [`nosetest`](http://pythontesting.net/framework/nose/nose-introduction/) , etc. Le rapport devra bien évidemment contenir un préambule technique pour expliquer vos choix et la manière d'exécuter vos codes.\n",
    "\n",
    "> L'énoncé du projet et les sources se trouvent dans un repository gitlab :\n",
    "> ```bash\n",
    "> git clone https://gitlab.lip6.fr/phw/projetCdM2018.git\n",
    "> ```\n",
    ">\n",
    "> **À l'ARI, pensez à configurer le proxy :**\n",
    "> ```bash\n",
    "> git config --global http.proxy proxy:3128\n",
    "> ```\n",
    "\n",
    "Les codes source qui vous sont fournis sont \n",
    "- `CdM.py` qui contient une version à compléter de la classe `CdM`,\n",
    "- `FeuRouge.py` qui contient une version de la classe ` FeuRouge`,\n",
    "- `utils.py` qui contient quelques fonctions utilitaires.\n",
    "\n",
    "Le répertoire que vous rendrez, compressé en `tar.gz` devra contenir \n",
    "> - ces fichiers et d'autres que vous créerez en cours de projet. Une partie de la correction correspondra à l'exécution d'un code fichier qui aura comme prérequis l'existence de ces fichier. Si il ne peut pas s'exécuter, ce sera considéré comme une faute dans le projet. **Le nom des fichiers, classes, méthodes et attributs sont donc à respecter scrupuleusement** si il est spécifié dans l'énoncé.\n",
    "> - un `rapport.pdf` qui contiendra le rapport. \n",
    "> - Une **attention** particulière est demandée en ce qui concerne la qualité de la documentation de votre code (docstring).\n"
   ]
  },
  {
   "cell_type": "markdown",
   "metadata": {},
   "source": [
    "## Choix pour une implémentation\n",
    "Une chaîne de Markov est définie par une structure de données comprenant :\n",
    "- un ensemble d'états ($S$), la variable $X_t \\in S$ indique l'état à l'instant $t$. \n",
    "- un modèle de transition spécifiant complètement les distributions $P(X_t|X_{t-1})$\n",
    "- une distribution particulière $P(X_0)$\n",
    "\n",
    "Dans notre implémentation, il s'agit de pouvoir définir le plus facilement une telle structure. En particulier, la spécification d'une distribution de probabilités peut être complexe.\n",
    "\n",
    "Comme dans le cadre des CdM, il arrive fréquemment qu'une distribution soit assez 'creuse'. Au lieu de représenter la distribution comme un vecteur, nous nous focaliserons sur le support de la distribution en utilisant un dictionnaire plutôt qu'un vecteur.\n",
    "\n",
    "Soit une variable aléatoire $X \\in \\{1,\\cdots,10\\}$, soit une distribution de probabilité $P$ telle que $P(X=4)=0.8$ et $P(X=6)=0.2$, cette distribution peut être représentée par :\n",
    "- un vecteur `[0,0,0,0.8,0,0.2,0,0,0,0]`,\n",
    "- un dictionnaire `{4=>0.8,6=>0.2}`. Nous appelerons __distribution__ la représentation par dictionnaire.\n",
    "\n",
    "Nous privéligierons la représentation par distribution, naturelle en python, bien qu'il faudra se donner parfois les moyens de passer du vecteur à la distribution, ou réciproquement."
   ]
  },
  {
   "cell_type": "markdown",
   "metadata": {},
   "source": [
    "### Idée de l'implémentation : une classe abstraite pour les CdM, à spécialiser par surcharge\n",
    "\n",
    "Un CdM devra donc implementer principalement 3 services :\n",
    "```python\n",
    "  def get_states(self):\n",
    "    \"\"\"\n",
    "    :return: un ensemble d'états énumérable (list, n-uple, etc.)\n",
    "    \"\"\"\n",
    "\n",
    "  def get_transition_distribution(self, state):\n",
    "    \"\"\"\n",
    "    :param state: état initial\n",
    "    :return: un dictionnaire {etat:proba} représentant l'ensemble des états atteignables à partir de state et leurs probabiblités\n",
    "    \"\"\"\n",
    "\n",
    "  def get_initial_distribution(self):\n",
    "    \"\"\"\n",
    "    :return: un dictionnaire représentant la distribution à t=0 {etat:proba}\n",
    "    \"\"\"\n",
    "```\n",
    "et c'est tout. **Le reste du code devrait être générique et ne devrait pas dépendre de la chaîne de Markov actuellement implémentée.**\n",
    "\n",
    "Nos chaînes de Markov seront donc représentées par des classes, spécialisant une classe abstraite `CdM` et pouvant se limiter à surcharger ces 3 méthodes.\n",
    "\n",
    "![Diagramme de classes issues de `CdM`](images/hierarchyCdM.png)"
   ]
  },
  {
   "cell_type": "markdown",
   "metadata": {},
   "source": [
    "### Exemple du feu rouge\n",
    "Soit une chaîne de Markov représentant (de manière très approximative) le comportement d'un feu rouge :\n",
    "1. un feu rouge peut être dans un des 3 états : rouge, orange, vert\n",
    "2. un feu rouge possède une transition indiquant \n",
    "  - qu'il peut passer au vert quand il est rouge, \n",
    "  - qu'il peut passer à l'orange quand il est vert, \n",
    "  - qu'il peut passer au rouge quand il est orange.\n",
    "3. enfin, on suppose qu'à $t=0$, le feu est plus probablement rouge que vert, mais pas orange.\n",
    "\n",
    "Ce qui donnera :"
   ]
  },
  {
   "cell_type": "code",
   "execution_count": 1,
   "metadata": {},
   "outputs": [],
   "source": [
    "#!/usr/bin/env python\n",
    "#-*- coding: utf-8 -*-\n",
    "\n",
    "import numpy as np\n",
    "import pyAgrum as gum\n",
    "import matplotlib.pyplot as plt\n",
    "\n",
    "import utils\n",
    "\n",
    "\n",
    "class CdM(object):\n",
    "    \"\"\"\n",
    "    Class virtuelle représentant une Chaîne de Markov\n",
    "    \"\"\"\n",
    "\n",
    "    def __init__(self):\n",
    "        \"\"\"\n",
    "        Constructeur. En particulier, initalise le dictionaire stateToIndex\n",
    "\n",
    "        :warning: doit être appelé en fin de __init__ des classes filles\n",
    "        avec ` super().__init__()`\n",
    "        \"\"\"\n",
    "        self.stateToIndex\n",
    "        pass\n",
    "\n",
    "    def get_states(self):\n",
    "        \"\"\"\n",
    "        :return: un ensemble d'états énumérable (list, n-uple, etc.)\n",
    "        \"\"\"\n",
    "        raise NotImplementedError\n",
    "\n",
    "    def get_transition_distribution(self, state):\n",
    "        \"\"\"\n",
    "        :param state: état initial\n",
    "        :return: un dictionnaire {etat:proba} représentant l'ensemble des états atteignables à partir de state et leurs\n",
    "        probabilités\n",
    "        \"\"\"\n",
    "        raise NotImplementedError\n",
    "\n",
    "    def get_initial_distribution(self):\n",
    "        \"\"\"\n",
    "        :return: un dictionnaire représentant la distribution à t=0 {etat:proba}\n",
    "        \"\"\"\n",
    "        raise NotImplementedError\n",
    "\n",
    "\n",
    "    def __len__(self):\n",
    "        \"\"\"\n",
    "        permet d'utiliser len(CdM) pour avoir le nombre d'état d'un CdM\n",
    "\n",
    "        :warning: peut être surchargée\n",
    "        :return: le nombre d'état\n",
    "        \"\"\"\n",
    "        return len(self.get_states())\n",
    "\n",
    "    def show_transition_matrix(self):\n",
    "        utils.show_matrix(self.get_transition_matrix())\n",
    "    \n",
    "    def distribution_to_vector(self, distribution):\n",
    "        l = len(self.get_states())\n",
    "        vector = np.zeros((1, l))\n",
    "        for k, v in distribution.items():\n",
    "            index = self.stateToIndex.get(k)\n",
    "            vector[0][index] = v\n",
    "        return vector[0]\n",
    "\n",
    "    def vector_to_distribution(self, vector):\n",
    "        list = {}\n",
    "        for i in range(len(vector)):\n",
    "            if not vector[i]==0.:\n",
    "                list[self.get_states()[i]]=vector[i]\n",
    "        return list\n",
    "\n",
    "    def show_distribution(self, distribution):\n",
    "        \"\"\"\n",
    "        Permet de représenter une distribution\n",
    "        :param distribution: Distribution à représenter\n",
    "        :return:\n",
    "        \"\"\"\n",
    "        res=[0]*self.__len__()\n",
    "        for i in range(len(self.get_states())):\n",
    "            if self.get_states()[i] in distribution :\n",
    "                res[i] = distribution[self.get_states()[i]]\n",
    "        return res\n",
    "\n",
    "    def get_transition_matrix(self):\n",
    "        size = len(self.get_states())\n",
    "        state = self.get_states()\n",
    "        array = np.zeros((size, size))\n",
    "        for i in range(array.shape[0]):\n",
    "            distribution = self.get_transition_distribution(state[i])\n",
    "            for j in range(array.shape[1]):\n",
    "                if state[j] in distribution:\n",
    "                    array[i][j]=distribution[state[j]]\n",
    "        return array\n",
    "\n",
    "    def get_transition_graph(self):\n",
    "        array = self.get_transition_matrix()\n",
    "        state = self.get_states()\n",
    "        g = gum.DiGraph()\n",
    "        for i in range(len(state)):\n",
    "            g.addNode()\n",
    "\n",
    "        for i in range(array.shape[0]):\n",
    "            for j in range(array.shape[1]):\n",
    "                if array[i][j]!=0. :\n",
    "                    g.addArc(i, j)\n",
    "\n",
    "        return g\n",
    "    \n",
    "    def show_transition_graph(self, gnb):\n",
    "        array = self.get_transition_matrix()\n",
    "        res=\"digraph {\\n\"\n",
    "        state = self.get_states()\n",
    "        for i in range(len(state)):\n",
    "            res += str(\"  \"+str(i)+\" [label=\\\"[\"+str(i)+\"] \"+str(state[i])+\"\\\"];\\n\")\n",
    "        res += \"\\n\"\n",
    "        for i in range(array.shape[0]):\n",
    "            for j in range(array.shape[1]):\n",
    "                if array[i][j]!=0. :\n",
    "                    res += str(\"  \"+str(i)+'->'+str(j)+\" [label=\"+str(array[i][j])+\"];\\n\")\n",
    "        res+=\"}\"\n",
    "        gnb.showDot(res)\n",
    "\n"
   ]
  },
  {
   "cell_type": "code",
   "execution_count": 2,
   "metadata": {},
   "outputs": [],
   "source": [
    "import numpy as np\n",
    "#from CdM import CdM\n",
    "\n",
    "# feu rouge hérite de CdM\n",
    "class FeuRouge(CdM):\n",
    "    def __init__(self):\n",
    "        self.stateToIndex = {'Orange' : 1, 'Rouge' : 0, 'Vert' : 2}\n",
    "        super(FeuRouge, self).__init__()\n",
    "        \n",
    "    def get_states(self):\n",
    "        return ['Rouge', 'Orange', 'Vert']\n",
    "\n",
    "    def get_transition_distribution(self, state):\n",
    "        if state == 'Rouge':\n",
    "            return {'Rouge': 0.8, 'Vert': 0.2}\n",
    "        elif state == 'Orange':\n",
    "            return {'Orange': 0.7, 'Rouge': 0.3}\n",
    "        elif state == 'Vert':\n",
    "            return {'Vert': 0.8, 'Orange': 0.2}\n",
    "        else:\n",
    "            raise IndexError\n",
    "\n",
    "    def get_initial_distribution(self):\n",
    "        return {'Vert': 0.3, 'Rouge': 0.7}\n",
    "    "
   ]
  },
  {
   "cell_type": "markdown",
   "metadata": {},
   "source": [
    "Remarquer la méthode de construction `__init__` qui appelle en ligne 5 la construction de `CdM` afin de construire certaines représentations internes du CdM."
   ]
  },
  {
   "cell_type": "markdown",
   "metadata": {},
   "source": [
    "### Question 1\n",
    "Construire une classe `MouseInMaze` (dans un fichier `MouseInMaze.py` donc) représentant l'exemple du cours de la souris dans le labyrinthe. On remarquera que, dans ce CdM, les états sont les entiers de 1 à 6."
   ]
  },
  {
   "cell_type": "code",
   "execution_count": 3,
   "metadata": {},
   "outputs": [],
   "source": [
    "import numpy as np\n",
    "#from CdM import CdM\n",
    "\n",
    "class MouseInMaze(CdM):\n",
    "    def __init__(self):\n",
    "        self.stateToIndex = {'1': 0, '2': 1, '3': 2, '4': 3, '5': 4, '6': 5}\n",
    "        super(MouseInMaze, self).__init__()\n",
    "\n",
    "\n",
    "    def get_states(self):\n",
    "        return [1, 2, 3, 4, 5, 6]\n",
    "\n",
    "    def get_transition_distribution(self, state):\n",
    "        if state == 1:\n",
    "            return {1 : 0.5, 2 : 0.5}\n",
    "        elif state == 2:\n",
    "            return {1 : 0.5, 4 : 0.5}\n",
    "        elif state == 3:\n",
    "            return {1 : 0.25, 2 : 0.25, 5 : 0.25, 6 : 0.25}\n",
    "        elif state == 4:\n",
    "            return {3 : 1.0}\n",
    "        elif state == 5:\n",
    "            return {5 : 1.0}\n",
    "        elif state == 6:\n",
    "            return {6 : 1.0}\n",
    "\n",
    "    def get_initial_distribution(self):\n",
    "        return {2 : 1.0}"
   ]
  },
  {
   "cell_type": "markdown",
   "metadata": {},
   "source": [
    "## Partie I - Enrichissement de `CdM.py`\n",
    "\n",
    "Dans cette partie, nous instrumentons la classe `CdM` d'un ensemble de méthodes génériques permettant de manipuler et de visualiser tous les `CdM`.\n",
    "\n",
    "Dans toutes les représentations internes (graphe, matrice, etc.), les états seront plus facilement manipulable par leurs indices (de $0$ à $N-1$ où $N$ est le nombre d'état de la chaîne de Markov). Il s'agit donc de se donner le moyen de passer facilement d'un état à son indice."
   ]
  },
  {
   "cell_type": "markdown",
   "metadata": {},
   "source": [
    "### Question 2 : stateToIndex\n",
    "Dans la méthode `CdM.__init__`, définir un attribut `stateToIndex` qui permettra cette traduction d'état à indice. Par exemple, "
   ]
  },
  {
   "cell_type": "code",
   "execution_count": 4,
   "metadata": {},
   "outputs": [
    {
     "name": "stdout",
     "output_type": "stream",
     "text": [
      "{'Orange': 1, 'Rouge': 0, 'Vert': 2}\n"
     ]
    }
   ],
   "source": [
    "f = FeuRouge()\n",
    "print(f.stateToIndex)"
   ]
  },
  {
   "cell_type": "markdown",
   "metadata": {},
   "source": [
    "### Question 3 : distributions et vecteurs\n",
    "Proposer des méthodes `CdM.distribution_to_vector` et `CdM.vector_to_distribution` permettant de passer de la représentation en dictionnaire (distribution) à la représentation vectorielle des probabilités sur les états."
   ]
  },
  {
   "cell_type": "code",
   "execution_count": 5,
   "metadata": {},
   "outputs": [
    {
     "data": {
      "text/plain": [
       "array([0.7, 0. , 0.3])"
      ]
     },
     "execution_count": 5,
     "metadata": {},
     "output_type": "execute_result"
    }
   ],
   "source": [
    "f = FeuRouge()\n",
    "f.distribution_to_vector({\"Rouge\":0.7,\"Vert\":0.3})"
   ]
  },
  {
   "cell_type": "code",
   "execution_count": 6,
   "metadata": {},
   "outputs": [
    {
     "data": {
      "text/plain": [
       "{'Orange': 0.5, 'Vert': 0.5}"
      ]
     },
     "execution_count": 6,
     "metadata": {},
     "output_type": "execute_result"
    }
   ],
   "source": [
    "f=FeuRouge()\n",
    "f.vector_to_distribution(np.array([0,0.5,0.5]))"
   ]
  },
  {
   "cell_type": "markdown",
   "metadata": {},
   "source": [
    "Proposer une méthode `CdM.show_distribution` permettant de représenter une distribution par exemple (de manière générique) comme son vecteur associé."
   ]
  },
  {
   "cell_type": "code",
   "execution_count": 7,
   "metadata": {},
   "outputs": [
    {
     "data": {
      "text/plain": [
       "[0.7, 0, 0.3]"
      ]
     },
     "execution_count": 7,
     "metadata": {},
     "output_type": "execute_result"
    }
   ],
   "source": [
    "f=FeuRouge()\n",
    "f.show_distribution(f.get_initial_distribution())"
   ]
  },
  {
   "cell_type": "markdown",
   "metadata": {},
   "source": [
    "On peut facilement voir comment spécialiser `FeuRouge.show_distribution` par surcharge :"
   ]
  },
  {
   "cell_type": "code",
   "execution_count": 8,
   "metadata": {},
   "outputs": [],
   "source": [
    "from CdM import CdM\n",
    "\n",
    "import matplotlib.pyplot as plt\n",
    "%matplotlib inline  \n",
    "\n",
    "import utils\n",
    "\n",
    "# re-définition de FeuRouge\n",
    "class FeuRouge(CdM):\n",
    "    def __init__(self):\n",
    "        self.stateToIndex = {'Orange' : 1, 'Rouge' : 0, 'Vert' : 2}\n",
    "        super(FeuRouge, self).__init__()\n",
    "        \n",
    "    def get_states(self):\n",
    "        return ['Rouge', 'Orange', 'Vert']\n",
    "\n",
    "    def get_transition_distribution(self, state):\n",
    "        if state == 'Rouge':\n",
    "            return {'Rouge': 0.8, 'Vert': 0.2}\n",
    "        elif state == 'Orange':\n",
    "            return {'Orange': 0.7, 'Rouge': 0.3}\n",
    "        elif state == 'Vert':\n",
    "            return {'Vert': 0.8, 'Orange': 0.2}\n",
    "        else:\n",
    "            raise IndexError\n",
    "\n",
    "    def get_initial_distribution(self):\n",
    "        return {'Vert': 0.3, 'Rouge': 0.7}\n",
    "\n",
    "    def show_distribution(self, distribution):\n",
    "        fig, ax = plt.subplots()\n",
    "        fig.set_size_inches(4, 1)\n",
    "        ax.set_xticks([])\n",
    "        ax.set_yticklabels(self.get_states())\n",
    "        ax.set_yticks([0, 1, 2])\n",
    "        ax.imshow(self.distribution_to_vector(distribution).reshape(3, 1), cmap=utils.ProbaMap)"
   ]
  },
  {
   "cell_type": "code",
   "execution_count": 9,
   "metadata": {},
   "outputs": [
    {
     "data": {
      "image/png": "[encoded data removed]",
      "text/plain": [
       "<Figure size 288x72 with 1 Axes>"
      ]
     },
     "metadata": {},
     "output_type": "display_data"
    }
   ],
   "source": [
    "f=FeuRouge()\n",
    "f.show_distribution(f.get_initial_distribution())"
   ]
  },
  {
   "cell_type": "markdown",
   "metadata": {},
   "source": [
    "### Question 4 : matrice de transition\n",
    "\n",
    "Proposer une méthode `CdM.get_transition_matrix` qui permet de construire un `numpy.array` représentant la matrice de transition du MdP\n"
   ]
  },
  {
   "cell_type": "code",
   "execution_count": 10,
   "metadata": {},
   "outputs": [
    {
     "data": {
      "text/plain": [
       "array([[0.8, 0. , 0.2],\n",
       "       [0.3, 0.7, 0. ],\n",
       "       [0. , 0.2, 0.8]])"
      ]
     },
     "execution_count": 10,
     "metadata": {},
     "output_type": "execute_result"
    }
   ],
   "source": [
    "f=FeuRouge()\n",
    "f.get_transition_matrix()"
   ]
  },
  {
   "cell_type": "markdown",
   "metadata": {},
   "source": [
    "Remarquer qu'une méthode `CdM.show_transition_matrix` vous est fournie pour présenter graphiquement cette matrice (utile lorsque la matrice est de grande taille). Cette méthode utilise votre implémentation de `CdM.get_transition_matrix`."
   ]
  },
  {
   "cell_type": "code",
   "execution_count": 11,
   "metadata": {},
   "outputs": [
    {
     "data": {
      "image/png": "[encoded data removed]",
      "text/plain": [
       "<Figure size 288x288 with 1 Axes>"
      ]
     },
     "metadata": {},
     "output_type": "display_data"
    }
   ],
   "source": [
    "f=FeuRouge()\n",
    "f.show_transition_matrix()"
   ]
  },
  {
   "cell_type": "markdown",
   "metadata": {},
   "source": [
    "### Représentation et visualisation de graphes\n",
    "Représenter un graphe de transition nécessite une implémentation de graphe. Il en existe plusieurs sous python (networkx, pydot, pydotplus, etc.). Nous allons utiliser pyAgrum. En voici un exemple d'utilisation :"
   ]
  },
  {
   "cell_type": "code",
   "execution_count": 12,
   "metadata": {},
   "outputs": [
    {
     "name": "stdout",
     "output_type": "stream",
     "text": [
      "enfants de 0 : {1, 2}\n",
      "parents de 1 : {0}\n"
     ]
    }
   ],
   "source": [
    "import pyAgrum as gum\n",
    "import pyAgrum.lib.notebook as gnb # sous spyder : import pyAgrum.lib.ipython as gnb\n",
    "\n",
    "#créer un graph orienté\n",
    "g=gum.DiGraph()\n",
    "\n",
    "#créer 3 noeuds 0, 1 et 2\n",
    "g.addNode()\n",
    "g.addNode()\n",
    "g.addNode()\n",
    "\n",
    "#créer des arcs 0->1, 1->2 et 0->2\n",
    "g.addArc(0,1)\n",
    "g.addArc(1,2)\n",
    "g.addArc(0,2)\n",
    "\n",
    "#retrouver les enfants du noeud 0\n",
    "print(\"enfants de 0 : \"+str(g.children(0)))\n",
    "#retrouver les parents du noeud 1\n",
    "print(\"parents de 1 : \"+str(g.parents(1)))"
   ]
  },
  {
   "cell_type": "code",
   "execution_count": 13,
   "metadata": {},
   "outputs": [
    {
     "data": {
      "image/png": "[encoded data removed]"
     },
     "metadata": {},
     "output_type": "display_data"
    }
   ],
   "source": [
    "#dessiner le graph\n",
    "gnb.showDot(g.toDot())"
   ]
  },
  {
   "cell_type": "markdown",
   "metadata": {},
   "source": [
    "La fonction `showDot` permet de dessiner un graphe à partir d'une syntaxe `dot` qui permet de représenter un graphe par un texte. Par exemple :"
   ]
  },
  {
   "cell_type": "code",
   "execution_count": 14,
   "metadata": {},
   "outputs": [
    {
     "data": {
      "image/png": "[encoded data removed]"
     },
     "metadata": {},
     "output_type": "display_data"
    }
   ],
   "source": [
    "gnb.showDot(\"\"\"\n",
    "digraph {\n",
    "  1 [label=\"foo\"];\n",
    "  2 [label=\"bar\"];\n",
    "  3 [label=\"baz\"];\n",
    "  4 [label=\"qux\"];\n",
    "  \n",
    "  1->3 [label=0.33];\n",
    "  4->2 [label=0.5];\n",
    "  1->2 [label=0.456];\n",
    "}\n",
    "    \"\"\")"
   ]
  },
  {
   "cell_type": "markdown",
   "metadata": {},
   "source": [
    "### Question 5 : graphe de transition\n",
    "Écrire une fonction ` CdM.get_transition_graph` qui crée un `gum.DiGraph` représentant la structure du graphe de transition (sans les paramètres)."
   ]
  },
  {
   "cell_type": "code",
   "execution_count": 15,
   "metadata": {},
   "outputs": [
    {
     "data": {
      "image/png": "[encoded data removed]"
     },
     "metadata": {},
     "output_type": "display_data"
    }
   ],
   "source": [
    "f=FeuRouge()\n",
    "gnb.showDot(f.get_transition_graph().toDot())"
   ]
  },
  {
   "cell_type": "markdown",
   "metadata": {},
   "source": [
    "Écrire une fonction `CdM.show_transition_graph(gnb)` qui dessine le graphe de transition (avec les paramètres). Le paramètre `gnb` est le module qu'on utilise pour dessiner. (soit `import pyAgrum.lib.notebook as gnb` sous notebook, soit `import pyAgrum.lib.ipython as gnb` sous spyder, ipython, etc.)."
   ]
  },
  {
   "cell_type": "code",
   "execution_count": 16,
   "metadata": {},
   "outputs": [
    {
     "name": "stdout",
     "output_type": "stream",
     "text": [
      "digraph {\n",
      "  0 [label=\"[0] Rouge\"];\n",
      "  1 [label=\"[1] Orange\"];\n",
      "  2 [label=\"[2] Vert\"];\n",
      "\n",
      "  0->0 [label=0.8];\n",
      "  0->2 [label=0.2];\n",
      "  1->0 [label=0.3];\n",
      "  1->1 [label=0.7];\n",
      "  2->1 [label=0.2];\n",
      "  2->2 [label=0.8];\n",
      "}\n"
     ]
    },
    {
     "data": {
      "image/png": "[encoded data removed]"
     },
     "metadata": {},
     "output_type": "display_data"
    }
   ],
   "source": [
    "f=FeuRouge()\n",
    "f.show_transition_graph(gnb)"
   ]
  },
  {
   "cell_type": "markdown",
   "metadata": {},
   "source": [
    "Remarquer que dans les noeuds, on affiche le nom et l'indice de l'état. Sur les arcs, on affiche les probabilités de transition."
   ]
  },
  {
   "cell_type": "markdown",
   "metadata": {},
   "source": [
    "### Question 6 : vérifier que tout fonctionne avec MouseInMaze"
   ]
  },
  {
   "cell_type": "code",
   "execution_count": 17,
   "metadata": {},
   "outputs": [
    {
     "data": {
      "image/png": "[encoded data removed]",
      "text/plain": [
       "<Figure size 288x288 with 1 Axes>"
      ]
     },
     "metadata": {},
     "output_type": "display_data"
    }
   ],
   "source": [
    "from MouseInMaze import MouseInMaze\n",
    "m=MouseInMaze()\n",
    "m.show_transition_matrix()"
   ]
  },
  {
   "cell_type": "code",
   "execution_count": 18,
   "metadata": {},
   "outputs": [
    {
     "name": "stdout",
     "output_type": "stream",
     "text": [
      "digraph {\n",
      "  0 [label=\"[0] 1\"];\n",
      "  1 [label=\"[1] 2\"];\n",
      "  2 [label=\"[2] 3\"];\n",
      "  3 [label=\"[3] 4\"];\n",
      "  4 [label=\"[4] 5\"];\n",
      "  5 [label=\"[5] 6\"];\n",
      "\n",
      "  0->0 [label=0.5];\n",
      "  0->1 [label=0.5];\n",
      "  1->0 [label=0.5];\n",
      "  1->3 [label=0.5];\n",
      "  2->0 [label=0.25];\n",
      "  2->1 [label=0.25];\n",
      "  2->4 [label=0.25];\n",
      "  2->5 [label=0.25];\n",
      "  3->2 [label=1.0];\n",
      "  4->4 [label=1.0];\n",
      "  5->5 [label=1.0];\n",
      "}\n"
     ]
    },
    {
     "data": {
      "image/png": "[encoded data removed]"
     },
     "metadata": {},
     "output_type": "display_data"
    }
   ],
   "source": [
    "m.show_transition_graph(gnb)"
   ]
  },
  {
   "cell_type": "code",
   "execution_count": 19,
   "metadata": {},
   "outputs": [
    {
     "data": {
      "text/plain": [
       "[0, 1.0, 0, 0, 0, 0]"
      ]
     },
     "execution_count": 19,
     "metadata": {},
     "output_type": "execute_result"
    }
   ],
   "source": [
    "m.show_distribution(m.get_initial_distribution())"
   ]
  },
  {
   "cell_type": "markdown",
   "metadata": {},
   "source": [
    "### Question 7 : MonoBestiole \n",
    "Proposer dans `MonoBestiole.py`, une implémentation de la `MonoBestiole` proposée dans le cours. Vous pouvez vous amuser à la généraliser un petit peu. Par exemple, en paramétrant $N$ le nombre d'états, la probabilité $p$ d'aller à droite et la probabilité d'aller à gauche $q$  ($p+q\\leq 1$)"
   ]
  },
  {
   "cell_type": "code",
   "execution_count": 20,
   "metadata": {},
   "outputs": [],
   "source": [
    "import numpy as np\n",
    "from CdM import CdM\n",
    "\n",
    "\n",
    "class MonoBestiole(CdM):\n",
    "    def __init__(self, nbEtat, proba_droite, proba_gauche):\n",
    "        self.stateToIndex = {}\n",
    "        self.nbEtat=nbEtat\n",
    "        self.p_droite=proba_droite\n",
    "        self.p_gauche=proba_gauche\n",
    "        for i in range(nbEtat):\n",
    "            self.stateToIndex[str(i+1)] = int(i)\n",
    "        super(MonoBestiole, self).__init__()\n",
    "\n",
    "    def get_states(self):\n",
    "        return range(1, self.nbEtat+1)\n",
    "\n",
    "    def get_transition_distribution(self, state):\n",
    "        droite = state+1\n",
    "        gauche = state-1\n",
    "        if state == 1:\n",
    "            gauche = 1\n",
    "        elif state == self.nbEtat:\n",
    "            droite = self.nbEtat\n",
    "        return {gauche: self.p_gauche, droite: self.p_droite}\n",
    "\n",
    "    def get_initial_distribution(self):\n",
    "        return { 1 : 1.0}\n"
   ]
  },
  {
   "cell_type": "code",
   "execution_count": 21,
   "metadata": {
    "scrolled": true
   },
   "outputs": [
    {
     "data": {
      "image/png": "[encoded data removed]",
      "text/plain": [
       "<Figure size 288x288 with 1 Axes>"
      ]
     },
     "metadata": {},
     "output_type": "display_data"
    }
   ],
   "source": [
    "from MonoBestiole import MonoBestiole\n",
    "b=MonoBestiole(7,0.6,0.4)\n",
    "b.show_transition_matrix()"
   ]
  },
  {
   "cell_type": "code",
   "execution_count": 22,
   "metadata": {},
   "outputs": [
    {
     "name": "stdout",
     "output_type": "stream",
     "text": [
      "digraph {\n",
      "  0 [label=\"[0] 1\"];\n",
      "  1 [label=\"[1] 2\"];\n",
      "  2 [label=\"[2] 3\"];\n",
      "  3 [label=\"[3] 4\"];\n",
      "  4 [label=\"[4] 5\"];\n",
      "  5 [label=\"[5] 6\"];\n",
      "  6 [label=\"[6] 7\"];\n",
      "\n",
      "  0->0 [label=0.4];\n",
      "  0->1 [label=0.6];\n",
      "  1->0 [label=0.4];\n",
      "  1->2 [label=0.6];\n",
      "  2->1 [label=0.4];\n",
      "  2->3 [label=0.6];\n",
      "  3->2 [label=0.4];\n",
      "  3->4 [label=0.6];\n",
      "  4->3 [label=0.4];\n",
      "  4->5 [label=0.6];\n",
      "  5->4 [label=0.4];\n",
      "  5->6 [label=0.6];\n",
      "  6->5 [label=0.4];\n",
      "  6->6 [label=0.6];\n",
      "}\n"
     ]
    },
    {
     "data": {
      "image/png": "[encoded data removed]"
     },
     "metadata": {},
     "output_type": "display_data"
    }
   ],
   "source": [
    "b.show_transition_graph(gnb)"
   ]
  },
  {
   "cell_type": "code",
   "execution_count": 23,
   "metadata": {},
   "outputs": [
    {
     "data": {
      "text/plain": [
       "[0, 0, 0, 0, 0, 0, 0]"
      ]
     },
     "execution_count": 23,
     "metadata": {},
     "output_type": "execute_result"
    }
   ],
   "source": [
    "b.show_distribution(b.get_initial_distribution())"
   ]
  },
  {
   "cell_type": "markdown",
   "metadata": {},
   "source": [
    "### Question 8 : analyse du graphe de transition\n",
    "\n",
    "Écrire les méthodes `CdM.get_communication_classes()`, `CdM.get_absorbing_classes()` qui permettent d'analyser le graphe de transition. Attention au type de retour ! (`list` de `set`).\n",
    "\n",
    "Écrire également la méthode `CdM.is_irreducible()`."
   ]
  },
  {
   "cell_type": "code",
   "execution_count": 24,
   "metadata": {},
   "outputs": [
    {
     "name": "stdout",
     "output_type": "stream",
     "text": [
      "digraph {\n",
      "  0 [label=\"[0] Rouge\"];\n",
      "  1 [label=\"[1] Orange\"];\n",
      "  2 [label=\"[2] Vert\"];\n",
      "\n",
      "  0->0 [label=0.8];\n",
      "  0->2 [label=0.2];\n",
      "  1->0 [label=0.3];\n",
      "  1->1 [label=0.7];\n",
      "  2->1 [label=0.2];\n",
      "  2->2 [label=0.8];\n",
      "}\n"
     ]
    },
    {
     "data": {
      "image/png": "[encoded data removed]"
     },
     "metadata": {},
     "output_type": "display_data"
    },
    {
     "ename": "AttributeError",
     "evalue": "'FeuRouge' object has no attribute 'get_communication_classes'",
     "output_type": "error",
     "traceback": [
      "\u001b[0;31m---------------------------------------------------------------------------\u001b[0m",
      "\u001b[0;31mAttributeError\u001b[0m                            Traceback (most recent call last)",
      "\u001b[0;32m<ipython-input-24-2f41bf326621>\u001b[0m in \u001b[0;36m<module>\u001b[0;34m()\u001b[0m\n\u001b[1;32m      1\u001b[0m \u001b[0mf\u001b[0m\u001b[0;34m=\u001b[0m\u001b[0mFeuRouge\u001b[0m\u001b[0;34m(\u001b[0m\u001b[0;34m)\u001b[0m\u001b[0;34m\u001b[0m\u001b[0m\n\u001b[1;32m      2\u001b[0m \u001b[0mf\u001b[0m\u001b[0;34m.\u001b[0m\u001b[0mshow_transition_graph\u001b[0m\u001b[0;34m(\u001b[0m\u001b[0mgnb\u001b[0m\u001b[0;34m)\u001b[0m\u001b[0;34m\u001b[0m\u001b[0m\n\u001b[0;32m----> 3\u001b[0;31m \u001b[0mprint\u001b[0m\u001b[0;34m(\u001b[0m\u001b[0;34m\"Composantes fortement connexes : \"\u001b[0m\u001b[0;34m+\u001b[0m\u001b[0mstr\u001b[0m\u001b[0;34m(\u001b[0m\u001b[0mf\u001b[0m\u001b[0;34m.\u001b[0m\u001b[0mget_communication_classes\u001b[0m\u001b[0;34m(\u001b[0m\u001b[0;34m)\u001b[0m\u001b[0;34m)\u001b[0m\u001b[0;34m)\u001b[0m\u001b[0;34m\u001b[0m\u001b[0m\n\u001b[0m\u001b[1;32m      4\u001b[0m \u001b[0mprint\u001b[0m\u001b[0;34m(\u001b[0m\u001b[0;34m\"Sous-chaines de Markov irréductibles : \"\u001b[0m\u001b[0;34m+\u001b[0m\u001b[0mstr\u001b[0m\u001b[0;34m(\u001b[0m\u001b[0mf\u001b[0m\u001b[0;34m.\u001b[0m\u001b[0mget_absorbing_classes\u001b[0m\u001b[0;34m(\u001b[0m\u001b[0;34m)\u001b[0m\u001b[0;34m)\u001b[0m\u001b[0;34m)\u001b[0m\u001b[0;34m\u001b[0m\u001b[0m\n\u001b[1;32m      5\u001b[0m \u001b[0mprint\u001b[0m\u001b[0;34m(\u001b[0m\u001b[0;34m\"Irréductible : \"\u001b[0m\u001b[0;34m+\u001b[0m\u001b[0mstr\u001b[0m\u001b[0;34m(\u001b[0m\u001b[0mf\u001b[0m\u001b[0;34m.\u001b[0m\u001b[0mis_irreducible\u001b[0m\u001b[0;34m(\u001b[0m\u001b[0;34m)\u001b[0m\u001b[0;34m)\u001b[0m\u001b[0;34m)\u001b[0m\u001b[0;34m\u001b[0m\u001b[0m\n",
      "\u001b[0;31mAttributeError\u001b[0m: 'FeuRouge' object has no attribute 'get_communication_classes'"
     ]
    }
   ],
   "source": [
    "f=FeuRouge()\n",
    "f.show_transition_graph(gnb)\n",
    "print(\"Composantes fortement connexes : \"+str(f.get_communication_classes()))\n",
    "print(\"Sous-chaines de Markov irréductibles : \"+str(f.get_absorbing_classes()))\n",
    "print(\"Irréductible : \"+str(f.is_irreducible()))"
   ]
  },
  {
   "cell_type": "code",
   "execution_count": null,
   "metadata": {},
   "outputs": [],
   "source": [
    "m=MouseInMaze()\n",
    "m.show_transition_graph(gnb)\n",
    "print(\"Composantes fortement connexes : \"+str(m.get_communication_classes()))\n",
    "print(\"Sous-chaines de Markov : \"+str(m.get_absorbing_classes()))\n",
    "print(\"Irréductible : \"+str(m.is_irreducible()))"
   ]
  },
  {
   "cell_type": "markdown",
   "metadata": {},
   "source": [
    "Enfin, écrire les méthodes `CdM.get_periodicity()` qui calcule la périodicité d'une chaîne de Markov et ` CdM.is_aperiodic()` qui indique si une CdM est apériodique."
   ]
  },
  {
   "cell_type": "code",
   "execution_count": null,
   "metadata": {},
   "outputs": [],
   "source": [
    "f=FeuRouge()\n",
    "f.show_transition_graph(gnb)\n",
    "print(\"Apériodique : \"+str(f.is_aperiodic()))\n",
    "print(\"Périodicité : \"+str(f.get_periodicity()))"
   ]
  },
  {
   "cell_type": "code",
   "execution_count": null,
   "metadata": {},
   "outputs": [],
   "source": [
    "from CdM import CdM\n",
    "import matplotlib.pyplot as plt\n",
    "import utils\n",
    "\n",
    "# Définition d'une CdM apériodique\n",
    "class AperiodicCdM(CdM):\n",
    "  def __init__(self):\n",
    "    super().__init__()\n",
    "        \n",
    "  def get_states(self):\n",
    "    return \"DEABC\"\n",
    "\n",
    "  def get_transition_distribution(self, state):\n",
    "    if state == 'A':\n",
    "      return {'D': 1}\n",
    "    elif state == 'B':\n",
    "      return {'A': 1}\n",
    "    elif state == 'C':\n",
    "      return {'B': 1}\n",
    "    elif state == 'D':\n",
    "      return {'C': 0.3,'E':0.7}\n",
    "    elif state == 'E':\n",
    "      return {'A': 1}\n",
    "    else:\n",
    "      raise IndexError\n",
    "\n",
    "  def get_initial_distribution(self):\n",
    "    return {'A': 1}\n",
    "\n",
    "a=AperiodicCdM()\n",
    "a.show_transition_graph(gnb)\n",
    "print(\"Apériodique : \"+str(a.is_aperiodic()))\n",
    "print(\"Périodicité : \"+str(a.get_periodicity()))"
   ]
  },
  {
   "cell_type": "code",
   "execution_count": null,
   "metadata": {},
   "outputs": [],
   "source": [
    "from CdM import CdM\n",
    "import matplotlib.pyplot as plt\n",
    "import utils\n",
    "\n",
    "# Définition d'une CdM périodique\n",
    "class PeriodicCdM(CdM):\n",
    "  def __init__(self):\n",
    "    super().__init__()\n",
    "        \n",
    "  def get_states(self):\n",
    "    return \"DEABCF\"\n",
    "\n",
    "  def get_transition_distribution(self, state):\n",
    "    if state == 'A':\n",
    "      return {'D': 1}\n",
    "    elif state == 'B':\n",
    "      return {'A': 1}\n",
    "    elif state == 'C':\n",
    "      return {'B': 1}\n",
    "    elif state == 'D':\n",
    "      return {'C': 0.3,'E':0.7}\n",
    "    elif state == 'E':\n",
    "      return {'F': 1}\n",
    "    elif state == 'F':\n",
    "      return {'A': 1}\n",
    "    else:\n",
    "      raise IndexError\n",
    "\n",
    "  def get_initial_distribution(self):\n",
    "    return {'A': 1}\n",
    "\n",
    "p=PeriodicCdM()\n",
    "p.show_transition_graph(gnb)\n",
    "print(\"Apériodique : \"+str(p.is_aperiodic()))\n",
    "print(\"Périodicité : \"+str(p.get_periodicity()))"
   ]
  },
  {
   "cell_type": "code",
   "execution_count": null,
   "metadata": {},
   "outputs": [],
   "source": [
    "from CdM import CdM\n",
    "import matplotlib.pyplot as plt\n",
    "import utils\n",
    "\n",
    "# Définition d'une CdM périodique plus grand\n",
    "class BiggerPeriodicCdM(CdM):\n",
    "  def __init__(self):\n",
    "    super().__init__()\n",
    "        \n",
    "  def get_states(self):\n",
    "    return \"ABCDEFGHIJ\"\n",
    "\n",
    "  def get_transition_distribution(self, state):\n",
    "    if state == 'A':\n",
    "      return {'B': 0.3,'D':0.7}\n",
    "    elif state == 'B':\n",
    "      return {'C': 1}\n",
    "    elif state == 'C':\n",
    "      return {'E': 0.3,'A':0.7}\n",
    "    elif state == 'D':\n",
    "      return {'C': 1}\n",
    "    elif state == 'E':\n",
    "      return {'F': 1}\n",
    "    elif state == 'F':\n",
    "      return {'G': 1}\n",
    "    elif state == 'G':\n",
    "      return {'H': 1}\n",
    "    elif state == 'H':\n",
    "      return {'I': 1}\n",
    "    elif state == 'I':\n",
    "      return {'C': 0.3,'J':0.7}\n",
    "    elif state == 'J':\n",
    "      return {'H': 1}\n",
    "    else:\n",
    "      raise IndexError\n",
    "\n",
    "  def get_initial_distribution(self):\n",
    "    return {'A': 1}\n",
    "\n",
    "b=BiggerPeriodicCdM()\n",
    "b.show_transition_graph(gnb)\n",
    "print(\"Apériodique : \"+str(b.is_aperiodic()))\n",
    "print(\"Périodicité : \"+str(b.get_periodicity()))"
   ]
  },
  {
   "cell_type": "code",
   "execution_count": null,
   "metadata": {},
   "outputs": [],
   "source": []
  }
 ],
 "metadata": {
  "hide_input": false,
  "kernelspec": {
   "display_name": "Python 3",
   "language": "python",
   "name": "python3"
  },
  "language_info": {
   "codemirror_mode": {
    "name": "ipython",
    "version": 3
   },
   "file_extension": ".py",
   "mimetype": "text/x-python",
   "name": "python",
   "nbconvert_exporter": "python",
   "pygments_lexer": "ipython3",
   "version": "3.5.2"
  }
 },
 "nbformat": 4,
 "nbformat_minor": 2
}
